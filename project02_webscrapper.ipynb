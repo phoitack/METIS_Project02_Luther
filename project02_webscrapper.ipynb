{
 "cells": [
  {
   "cell_type": "markdown",
   "metadata": {},
   "source": [
    "<h2> Project 2: Webscrapper</h2>"
   ]
  },
  {
   "cell_type": "code",
   "execution_count": null,
   "metadata": {
    "ExecuteTime": {
     "end_time": "2019-10-07T21:33:12.471590Z",
     "start_time": "2019-10-07T21:33:07.176914Z"
    }
   },
   "outputs": [],
   "source": [
    "from __future__ import print_function, division\n",
    "import requests\n",
    "requests.__path__\n",
    "from bs4 import BeautifulSoup\n",
    "\n",
    "import pandas as pd\n",
    "#import urllib2\n",
    "import re\n",
    "\n",
    "# ******************************************************\n",
    "# Get only the movie dates and money that it made\n",
    "# \n",
    "\n",
    "# List of movies with sequels\n",
    "url_sequel_main = \"https://www.imdb.com/list/ls003495084/?st_dt=&mode=detail&page=1&sort=list_order,asc&ref_=ttls_vm_dtl\"\n",
    "\n",
    "response = requests.get(url_sequel_main)\n",
    "\n",
    "#response.status_code"
   ]
  },
  {
   "cell_type": "code",
   "execution_count": null,
   "metadata": {},
   "outputs": [],
   "source": [
    "#print(response.text)"
   ]
  },
  {
   "cell_type": "code",
   "execution_count": null,
   "metadata": {},
   "outputs": [],
   "source": [
    "page = response.text"
   ]
  },
  {
   "cell_type": "code",
   "execution_count": null,
   "metadata": {},
   "outputs": [],
   "source": [
    "#soup = BeautifulSoup(page, \"lxml\")\n",
    "html_soup = BeautifulSoup(page, \"html.parser\")"
   ]
  },
  {
   "cell_type": "code",
   "execution_count": null,
   "metadata": {},
   "outputs": [],
   "source": [
    "movie_containers = html_soup.find_all('div', class_ = 'lister-item mode-detail')\n",
    "#print(type(movie_containers))\n",
    "#print(len(movie_containers))"
   ]
  },
  {
   "cell_type": "code",
   "execution_count": null,
   "metadata": {},
   "outputs": [],
   "source": [
    "#print(html_soup.prettify())"
   ]
  },
  {
   "cell_type": "code",
   "execution_count": null,
   "metadata": {},
   "outputs": [],
   "source": [
    "#print(first_movie.prettify())"
   ]
  },
  {
   "cell_type": "code",
   "execution_count": null,
   "metadata": {},
   "outputs": [],
   "source": [
    "# Get movie number on the page\n",
    "#first_movie_number = first_movie.h3.find('span', class_ = 'lister-item-index unbold text-primary')\n",
    "\n",
    "#<span class=\"lister-item-index unbold text-primary\">1.</span>\n",
    "\n",
    "\n",
    "# Get movie name\n",
    "first_movie = movie_containers[0]\n",
    "first_movie_title = first_movie.h3.a.text.strip()\n",
    "print(first_movie_title)"
   ]
  },
  {
   "cell_type": "code",
   "execution_count": null,
   "metadata": {},
   "outputs": [],
   "source": [
    "# Get movie number on the page\n",
    "first_movie.h3.find('span', class_ = 'lister-item-index unbold text-primary').text.strip().split('.')[0]"
   ]
  },
  {
   "cell_type": "code",
   "execution_count": null,
   "metadata": {},
   "outputs": [],
   "source": [
    "# Get release year\n",
    "first_year = first_movie.h3.find('span', class_ = 'lister-item-year text-muted unbold')\n",
    "first_year_release = first_year.text.strip()[1:-1]\n",
    "print(first_year_release)"
   ]
  },
  {
   "cell_type": "code",
   "execution_count": null,
   "metadata": {},
   "outputs": [],
   "source": [
    "# Get Box office numbers\n",
    "first_movie_dollars = first_movie.find_all('span', attrs = {'name':'nv'})[1]\n",
    "print(float(first_movie_dollars['data-value'].replace(',','')))\n",
    "\n",
    "#print(T[0])#.find('span', class_ = 'text-muted text-small')"
   ]
  },
  {
   "cell_type": "code",
   "execution_count": null,
   "metadata": {},
   "outputs": [],
   "source": [
    "# Get IMDB rating\n",
    "first_imdb_rating = first_movie.find('span', class_ = 'ipl-rating-star__rating')\n",
    "first_movie_imdb_rating = float(first_imdb_rating.text.strip())\n",
    "print(first_movie_imdb_rating)\n",
    "#print(first_imdb_rating)\n",
    "\n",
    "#float(first_imdb_movie.text)"
   ]
  },
  {
   "cell_type": "code",
   "execution_count": null,
   "metadata": {},
   "outputs": [],
   "source": [
    "first_mscore = first_movie.find('span', class_ = 'metascore favorable')\n",
    "first_mscore = int(first_mscore.text)\n",
    "print(first_mscore)"
   ]
  },
  {
   "cell_type": "code",
   "execution_count": null,
   "metadata": {},
   "outputs": [],
   "source": [
    "# Get number of votes\n",
    "first_movie_votes = first_movie.find_all('span', attrs = {'name':'nv'})[0]\n",
    "print(int(first_movie_votes['data-value']))\n"
   ]
  },
  {
   "cell_type": "code",
   "execution_count": null,
   "metadata": {},
   "outputs": [],
   "source": [
    "# Lets find movies without a metascore. In this case it is the  58th movie\n",
    "movie_wo_metacritic_score = movie_containers[56]\n",
    "movie_wo_metacritic_score1 = movie_wo_metacritic_score.find('div', class_ = 'ratings-metascore')\n",
    "\n",
    "type(movie_wo_metacritic_score1)\n",
    "print(int(movie_wo_metacritic_score1.text[1:3]))"
   ]
  },
  {
   "cell_type": "code",
   "execution_count": null,
   "metadata": {},
   "outputs": [],
   "source": [
    "# Let's find an instance when there is no gross numbers\n",
    "movie_wo_gross = movie_containers[57]\n",
    "# Use length \n",
    "len(movie_wo_gross.find_all('span', attrs = {'name':'nv'}))"
   ]
  },
  {
   "cell_type": "code",
   "execution_count": null,
   "metadata": {},
   "outputs": [],
   "source": [
    "# Movie page urls\n",
    "# The IMDB page for sequels is divided into several pages\n",
    "\n",
    "url_imdb_sequels_main = []\n",
    "\n",
    "temp_str1 = \"https://www.imdb.com/list/ls003495084/?st_dt=&mode=detail&page=\"\n",
    "temp_str2 = \"&sort=list_order,asc&ref_=ttls_vm_dtl\"\n",
    "\n",
    "# Let's give it a few starting pages\n",
    "start_page = 1\n",
    "end_page   = 12\n",
    "\n",
    "for i_page in range(start_page,end_page):\n",
    "    url_imdb_sequels_text = temp_str1+str(i_page)+temp_str2\n",
    "    \n",
    "    url_imdb_sequels_main.append(url_imdb_sequels_text)\n",
    "    \n",
    "#print(url_imdb_sequels_main)"
   ]
  },
  {
   "cell_type": "code",
   "execution_count": null,
   "metadata": {},
   "outputs": [],
   "source": [
    "# Get containers for all the movies\n",
    "page_num = 1\n",
    "response_main = requests.get(url_imdb_sequels_main[page_num-1])\n",
    "page_main = response_main.text\n",
    "html_main_soup = BeautifulSoup(page_main, \"html.parser\")\n",
    "movie_containers = html_main_soup.find_all('div', class_ = 'lister-item mode-detail')\n",
    "#movie_containersn = html_main_soup.find_all('div', class_ = 'lister-item mode-detail')"
   ]
  },
  {
   "cell_type": "code",
   "execution_count": null,
   "metadata": {},
   "outputs": [],
   "source": [
    "# Let's get all the individual movie links first!\n",
    "movie_urls = []\n",
    "\n",
    "num_movies = len(movie_containers)\n",
    "\n",
    "for container in movie_containers:\n",
    "    \n",
    "    # I only want movies that have both a metascore and gross\n",
    "    if len(container.find_all('span', attrs = {'name':'nv'})) > 1:  \n",
    "        #counter = counter + 1\n",
    "        \n",
    "        movie_urls_temp = container.h3.a.attrs['href']\n",
    "        \n",
    "        url_temp = 'https://www.imdb.com/' + movie_urls_temp\n",
    "        \n",
    "        movie_urls.append(url_temp)\n",
    "        \n",
    "    #print(url_temp)\n",
    "    \n",
    "#print(movie_urls)\n",
    "print(len(movie_urls))\n",
    "print(len(set(movie_urls)))\n",
    "\n",
    "#print(len(movie_urls) != len(set(movie_urls)))\n",
    "#set(movie_urls)"
   ]
  },
  {
   "cell_type": "code",
   "execution_count": null,
   "metadata": {},
   "outputs": [],
   "source": [
    "# Alright, now lets go to one page and get that information\n",
    "# This lite version only gets the movie title, release date, domestic box office, imdb rating & runtime\n",
    "\n",
    "# This was excruciatingly painful and needs to be automated further\n",
    "\n",
    "# Let's create empty lists for each category\n",
    "movie_title = []\n",
    "release_date = []\n",
    "imdb_rating = []\n",
    "#metascore = []\n",
    "#num_imdb_votes = []\n",
    "box_office_domestic = []\n",
    "#box_office_ww = []\n",
    "#budget = []\n",
    "runtime = []\n",
    "\n",
    "counter = 0\n",
    "\n",
    "#print(len(movie_urls))\n",
    "\n",
    "# Let's start looping\n",
    "for i in range(0,len(movie_urls)):\n",
    "#for i in range(0,len(movie_urls)):\n",
    "\n",
    "    i_sub_url = movie_urls[i]\n",
    "    \n",
    "    if (i == 0):\n",
    "        counter = counter + 1\n",
    "    else:\n",
    "        counter = i  \n",
    "    #print(counter)\n",
    "    \n",
    "    # Do the soup stuff\n",
    "    response_sub_page = requests.get(i_sub_url)\n",
    "    \n",
    "    sub_page = response_sub_page.text\n",
    "\n",
    "    html_soup_sub_page = BeautifulSoup(sub_page,\"html.parser\")\n",
    "    \n",
    "    # Get movie number of webpage\n",
    "    #sub_movie_num = \n",
    "    #print(html_soup_sub_page.h3)\n",
    "\n",
    "    # Get movie title\n",
    "    #movie_containers = html_soup.find_all('div', class_ = 'lister-item mode-detail')\n",
    "    #first_movie_title = container.h1\n",
    "    sub_movie_title = html_soup_sub_page.h1.text.strip().split('\\xa0')[0]\n",
    "    #print(sub_movie_title)\n",
    "    movie_title.append(sub_movie_title)\n",
    "\n",
    "    # Movie budget, release date, gross USA, gross world wide\n",
    "    for h4 in html_soup_sub_page.find_all('h4'):\n",
    "        #if \"Budget:\" in h4:\n",
    "        #    sub_movie_budget = h4.next_sibling.strip()\n",
    "        #    budget.append(sub_movie_budget)\n",
    "        #else:\n",
    "        #    sub_movie_budget = '$0'\n",
    "        #    budget.append(sub_movie_budget)             \n",
    "            \n",
    "        #if \"Budget:\" not in h4:\n",
    "        #    sub_movie_budget = '$0'\n",
    "        #    budget.append(sub_movie_budget)\n",
    "        \n",
    "            \n",
    "        if \"Release Date:\" in h4:\n",
    "            sub_movie_date = h4.next_sibling.strip()\n",
    "            release_date.append(sub_movie_date)\n",
    "            \n",
    "        if \"Gross USA:\" in h4:\n",
    "            sub_movie_gross_usa = h4.next_sibling.strip()\n",
    "            box_office_domestic.append(sub_movie_gross_usa)\n",
    "\n",
    "            \n",
    "        #if \"Cumulative Worldwide Gross:\" in h4:\n",
    "        #    sub_movie_gross_ww = h4.next_sibling.strip()\n",
    "        #    box_office_ww.append(sub_movie_gross_ww)\n",
    "\n",
    "\n",
    "    # Get runtime\n",
    "    #sub_movie_runtime = html_soup_sub_page.div.find_all('time')[1].text.strip()\n",
    "    #runtime.append(sub_movie_runtime)\n",
    "    \n",
    "    # Alternative get runtime\n",
    "    sub_movie_runtime = html_soup_sub_page.div.find_all('time')[0].text.strip()\n",
    "    runtime.append(sub_movie_runtime)\n",
    "\n",
    "    # Get IMDB Rating\n",
    "    sub_movie_imdb_rating = html_soup_sub_page.find_all('strong')[4].text.strip()\n",
    "    imdb_rating.append(sub_movie_imdb_rating)\n",
    "\n",
    "    # Get number of IMDB votes\n",
    "    #sub_movie_imdb_votes = html_soup_sub_page.div.find_all('span', class_ = 'small')[0].text.strip()\n",
    "    #num_imdb_votes.append(sub_movie_imdb_votes)\n",
    "\n",
    "    # Get Metacritic score (This is dangerous)\n",
    "    #sub_movie_metacritic = html_soup_sub_page.find_all('div', class_ = 'titleReviewBarItem')[0].text.strip()[0:3].strip() #[0].strip().text[0:2]\n",
    "    #metascore.append(sub_movie_metacritic)\n",
    "    \n",
    "    #print(sub_movie_title)\n",
    "    #print(counter, 'Title =',sub_movie_title, ', Gross USA =', sub_movie_gross_usa) #, ', Release Date =',sub_movie_date)\n",
    "    #print(sub_movie_date)\n",
    "    #print(sub_movie_gross_usa)\n",
    "    #print(sub_movie_gross_ww)\n",
    "    #print(sub_movie_runtime)\n",
    "    #print(sub_movie_imdb_rating)\n",
    "    #print(sub_movie_imdb_votes)\n",
    "    #print(sub_movie_metacritic)\n",
    "\n"
   ]
  },
  {
   "cell_type": "code",
   "execution_count": null,
   "metadata": {},
   "outputs": [],
   "source": [
    "# Some diagnostics\n",
    "print('Movie Titles:',len(movie_title))\n",
    "print('Release Date:',len(release_date))\n",
    "#print('Budget      :',len(budget))\n",
    "print('Domestic    :',len(box_office_domestic))\n",
    "#print('World Wide  :',len(box_office_ww))\n",
    "print('Runtime     :',len(runtime))\n",
    "print('IMDB Rrating:',len(imdb_rating))\n",
    "#print('IMDB Votes  :',len(num_imdb_votes))\n",
    "#print('Metascore   :',len(metascore))"
   ]
  },
  {
   "cell_type": "code",
   "execution_count": null,
   "metadata": {
    "ExecuteTime": {
     "end_time": "2019-10-07T21:13:36.157840Z",
     "start_time": "2019-10-07T21:13:36.151027Z"
    }
   },
   "outputs": [],
   "source": [
    "# Now create pandas dataframe\n",
    "df = pd.DataFrame({'Movie Title': movie_title,\n",
    "                   'Release Date': release_date,\n",
    "                   'Gross USA (USD)': box_office_domestic,\n",
    "                   'Runtime (mins)': runtime,\n",
    "                   'IMDB Rating (/10)': imdb_rating})\n",
    "#print(df.info())\n",
    "\n",
    "#df"
   ]
  },
  {
   "cell_type": "code",
   "execution_count": null,
   "metadata": {
    "ExecuteTime": {
     "end_time": "2019-10-07T21:13:36.626131Z",
     "start_time": "2019-10-07T21:13:36.619889Z"
    }
   },
   "outputs": [],
   "source": [
    "# Save to csv\n",
    "export_csv = df.to_csv (r'./export_dataframe_movie_details_lite_page11_part01.csv', index = None, header=True)"
   ]
  },
  {
   "cell_type": "code",
   "execution_count": null,
   "metadata": {
    "ExecuteTime": {
     "end_time": "2019-10-09T22:49:31.877515Z",
     "start_time": "2019-10-09T22:49:31.549616Z"
    }
   },
   "outputs": [],
   "source": [
    "# We now have all the csv files. Now we need to reload & combine all of them\n",
    "all_files = !ls *lite*csv\n",
    "#print(type(list(all_files)))\n",
    "#print(all_files)\n",
    "\n",
    "mydfs = {}\n",
    "\n",
    "idf = 0\n",
    "\n",
    "for ifile in all_files:\n",
    "    \n",
    "    idf = idf + 1\n",
    "    \n",
    "    mydfs['df' + str(idf)] = pd.read_csv(ifile)\n",
    "    \n",
    "# Now combine all of them\n",
    "df_all = pd.concat(mydfs.values(), ignore_index=True)\n",
    "#df2 = mydfs['df2']\n",
    "\n",
    "df_all\n",
    "\n",
    "# Write everything to a csv file\n",
    "df_all.to_csv (r'./export_dataframe_movie_details_lite_all_final.csv', index = None, header=True)"
   ]
  },
  {
   "cell_type": "code",
   "execution_count": null,
   "metadata": {},
   "outputs": [],
   "source": [
    "y"
   ]
  }
 ],
 "metadata": {
  "kernelspec": {
   "display_name": "Python 3",
   "language": "python",
   "name": "python3"
  },
  "language_info": {
   "codemirror_mode": {
    "name": "ipython",
    "version": 3
   },
   "file_extension": ".py",
   "mimetype": "text/x-python",
   "name": "python",
   "nbconvert_exporter": "python",
   "pygments_lexer": "ipython3",
   "version": "3.7.3"
  },
  "latex_envs": {
   "LaTeX_envs_menu_present": true,
   "autoclose": false,
   "autocomplete": true,
   "bibliofile": "biblio.bib",
   "cite_by": "apalike",
   "current_citInitial": 1,
   "eqLabelWithNumbers": true,
   "eqNumInitial": 1,
   "hotkeys": {
    "equation": "Ctrl-E",
    "itemize": "Ctrl-I"
   },
   "labels_anchors": false,
   "latex_user_defs": false,
   "report_style_numbering": false,
   "user_envs_cfg": false
  },
  "toc": {
   "base_numbering": 1,
   "nav_menu": {},
   "number_sections": true,
   "sideBar": true,
   "skip_h1_title": false,
   "title_cell": "Table of Contents",
   "title_sidebar": "Contents",
   "toc_cell": false,
   "toc_position": {},
   "toc_section_display": true,
   "toc_window_display": false
  }
 },
 "nbformat": 4,
 "nbformat_minor": 2
}
